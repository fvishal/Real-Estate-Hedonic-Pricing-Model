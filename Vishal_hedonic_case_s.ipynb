{
  "nbformat": 4,
  "nbformat_minor": 0,
  "metadata": {
    "colab": {
      "provenance": []
    },
    "kernelspec": {
      "name": "python3",
      "display_name": "Python 3"
    },
    "language_info": {
      "name": "python"
    }
  },
  "cells": [
    {
      "cell_type": "code",
      "execution_count": 2,
      "metadata": {
        "colab": {
          "base_uri": "https://localhost:8080/",
          "height": 0
        },
        "id": "Qn9ia2NkDDhF",
        "outputId": "5992e0b6-27cd-4c34-e348-a8530516cc76"
      },
      "outputs": [
        {
          "output_type": "stream",
          "name": "stdout",
          "text": [
            "          Date   Price                Address        City      Zip  Beds  \\\n",
            "0   2022-10-07  337000    609 Sweet Bay Ridge   Woodstock  30188.0     3   \n",
            "1   2022-10-13  735000  909 S on Main Drive    Woodstock,  30188.0     3   \n",
            "2   2022-11-22  460265         243 Vista Lane   Woodstock  30189.0     3   \n",
            "3   2022-11-28  559900       409 Chandler Ln   Woodstock,  30188.0     3   \n",
            "4   2022-12-13  409990       200 Atkinson Way   Woodstock  30189.0     4   \n",
            "..         ...     ...                    ...         ...      ...   ...   \n",
            "133 2023-09-28  435000   368 Cherry Hill Lane   Woodstock  30188.0     3   \n",
            "134 2023-09-29  474900   698 Stickley Oak Way   Woodstock  30189.0     3   \n",
            "135 2023-09-29  479900   712 Stickley Oak Way   Woodstock  30189.0     3   \n",
            "136 2023-10-02  468900   710 Stickley Oak Way   Woodstock  30189.0     3   \n",
            "137 2023-10-10  520000        138 Inwood Walk   Woodstock  30188.0     4   \n",
            "\n",
            "     Full Baths  Half Baths  Unit SF  Lot SF  ...  Stories End Unit  Basement  \\\n",
            "0             3           0     1538  1742.0  ...      3.0        Y  Daylight   \n",
            "1             3           1     3548  4792.0  ...      3.0        N         N   \n",
            "2             3           1     2385  2178.0  ...      3.0        N         N   \n",
            "3             3           1     2300  1307.0  ...      3.0        N         N   \n",
            "4             3           1     1873  2396.0  ...      3.0        Y         N   \n",
            "..          ...         ...      ...     ...  ...      ...      ...       ...   \n",
            "133           2           1     2048  2178.0  ...      2.0        N         N   \n",
            "134           2           1     1883  2178.0  ...      2.0        N         N   \n",
            "135           2           1     1883  2178.0  ...      2.0        Y         N   \n",
            "136           2           1     1849  2178.0  ...      2.0        N         N   \n",
            "137           3           1     2512  1825.0  ...      3.0        N         N   \n",
            "\n",
            "                   Subdivision Miles HOA Dues/Mo HOA Amenities            ES  \\\n",
            "0          Ridge at River Park   4.1        90.0   Pool/Tennis     Woodstock   \n",
            "1                South on Main   0.6       235.0  Pool/Fitness     Woodstock   \n",
            "2             Towne Lake Hills   1.3       170.0           NaN        Carmel   \n",
            "3                South on Main   0.6       235.0  Pool/Fitness     Woodstock   \n",
            "4                Addison Point   9.0       135.0           NaN        Carmel   \n",
            "..                         ...   ...         ...           ...           ...   \n",
            "133               East of Main   2.0       100.0           NaN  Little River   \n",
            "134  The Village at Towne Lake   1.3       249.0  Pool/Fitness     Woodstock   \n",
            "135  The Village at Towne Lake   1.3       249.0  Pool/Fitness     Woodstock   \n",
            "136  The Village at Towne Lake   1.3       249.0  Pool/Fitness     Woodstock   \n",
            "137                Inwood Walk   1.2       316.0          Pool     Woodstock   \n",
            "\n",
            "             MS           HS  \n",
            "0     Woodstock    Woodstock  \n",
            "1     Woodstock    Woodstock  \n",
            "2     Woodstock    Woodstock  \n",
            "3     Woodstock    Woodstock  \n",
            "4     Woodstock    Woodstock  \n",
            "..          ...          ...  \n",
            "133  Mill Creek  River Ridge  \n",
            "134   Woodstock    Woodstock  \n",
            "135   Woodstock    Woodstock  \n",
            "136   Woodstock    Woodstock  \n",
            "137   Woodstock    Woodstock  \n",
            "\n",
            "[138 rows x 23 columns]\n"
          ]
        }
      ],
      "source": [
        "import pandas as pd\n",
        "\n",
        "# Load the dataset from an Excel file\n",
        "file_path = '/content/RE Hedonic Pricing Case Data Sp24.xlsx'  # Replace with the path to your Excel file\n",
        "data = pd.read_excel(file_path, sheet_name='Original Data', header=1)\n",
        "\n",
        "# Display the first few rows to confirm it's loaded correctly\n",
        "print(data.head(150))\n"
      ]
    },
    {
      "cell_type": "code",
      "source": [
        "# Step 1: Check for missing values\n",
        "print(\"Missing values in each column:\\n\", data.isnull().sum())\n",
        "\n",
        "# Step 2: Correct data types if needed (This depends on the output of step 1)\n",
        "# For example, if 'Price' is not in numeric format, you would convert it like this:\n",
        "# data['Price'] = data['Price'].replace('[\\$,]', '', regex=True).astype(float)\n",
        "\n",
        "# Display data types\n",
        "print(\"\\nData types:\\n\", data.dtypes)\n",
        "\n",
        "# Step 3: Create dummy variables for 'End Unit' and 'Basement' if they are not numeric\n",
        "# Here's how you might create a dummy variable for 'End Unit':\n",
        "# data['End Unit'] = data['End Unit'].map({'Y': 1, 'N': 0})\n",
        "# And similarly for 'Basement':\n",
        "# data['Basement'] = data['Basement'].map({'Y': 1, 'N': 0, 'Daylight': 1})  # Assuming 'Daylight' counts as a basement\n"
      ],
      "metadata": {
        "colab": {
          "base_uri": "https://localhost:8080/",
          "height": 0
        },
        "id": "Phtu_u2KFZHr",
        "outputId": "5ea91ba0-2a48-4958-8fe7-ca709e844175"
      },
      "execution_count": 3,
      "outputs": [
        {
          "output_type": "stream",
          "name": "stdout",
          "text": [
            "Missing values in each column:\n",
            " Date               0\n",
            "Price              0\n",
            "Address            0\n",
            "City               0\n",
            "Zip                1\n",
            "Beds               0\n",
            "Full Baths         0\n",
            "Half Baths         0\n",
            "Unit SF            0\n",
            "Lot SF             0\n",
            "Year Built         0\n",
            "Other            110\n",
            "Parking            0\n",
            "Stories            0\n",
            "End Unit           0\n",
            "Basement           0\n",
            "Subdivision        0\n",
            "Miles              0\n",
            "HOA Dues/Mo        0\n",
            "HOA Amenities     63\n",
            "ES                 0\n",
            "MS                 0\n",
            "HS                 0\n",
            "dtype: int64\n",
            "\n",
            "Data types:\n",
            " Date             datetime64[ns]\n",
            "Price                     int64\n",
            "Address                  object\n",
            "City                     object\n",
            "Zip                     float64\n",
            "Beds                      int64\n",
            "Full Baths                int64\n",
            "Half Baths                int64\n",
            "Unit SF                   int64\n",
            "Lot SF                  float64\n",
            "Year Built                int64\n",
            "Other                    object\n",
            "Parking                  object\n",
            "Stories                 float64\n",
            "End Unit                 object\n",
            "Basement                 object\n",
            "Subdivision              object\n",
            "Miles                   float64\n",
            "HOA Dues/Mo             float64\n",
            "HOA Amenities            object\n",
            "ES                       object\n",
            "MS                       object\n",
            "HS                       object\n",
            "dtype: object\n"
          ]
        }
      ]
    },
    {
      "cell_type": "code",
      "source": [
        "# Handle missing values\n",
        "# For the 'Zip' column, we can convert to string and fill the missing value with the mode (most common value)\n",
        "data['Zip'] = data['Zip'].astype(str).fillna(data['Zip'].mode()[0])\n",
        "\n",
        "# For 'HOA Amenities', we create a dummy variable where 1 represents amenities are listed, and 0 for missing amenities\n",
        "data['Amenities_Listed'] = data['HOA Amenities'].notnull().astype(int)\n",
        "\n",
        "# Drop the 'Other' column if it's not critical\n",
        "data.drop(columns='Other', inplace=True)\n",
        "\n",
        "# Correct the data types\n",
        "data['Stories'] = data['Stories'].astype(int)\n",
        "\n",
        "# Map 'End Unit' and 'Basement' to binary variables\n",
        "data['End Unit'] = data['End Unit'].map({'Y': 1, 'N': 0})\n",
        "data['Basement'] = data['Basement'].map({'Y': 1, 'N': 0, 'Daylight': 1})  # Assuming 'Daylight' counts as a basement\n",
        "\n",
        "# Confirm the changes\n",
        "print(\"\\nModified Data Types:\\n\", data.dtypes)\n",
        "print(\"\\nMissing Values after modifications:\\n\", data.isnull().sum())\n"
      ],
      "metadata": {
        "colab": {
          "base_uri": "https://localhost:8080/",
          "height": 0
        },
        "id": "71x0gebbFZF7",
        "outputId": "d19a3953-9a8b-4d63-a096-06cd35026dab"
      },
      "execution_count": 4,
      "outputs": [
        {
          "output_type": "stream",
          "name": "stdout",
          "text": [
            "\n",
            "Modified Data Types:\n",
            " Date                datetime64[ns]\n",
            "Price                        int64\n",
            "Address                     object\n",
            "City                        object\n",
            "Zip                         object\n",
            "Beds                         int64\n",
            "Full Baths                   int64\n",
            "Half Baths                   int64\n",
            "Unit SF                      int64\n",
            "Lot SF                     float64\n",
            "Year Built                   int64\n",
            "Parking                     object\n",
            "Stories                      int64\n",
            "End Unit                     int64\n",
            "Basement                     int64\n",
            "Subdivision                 object\n",
            "Miles                      float64\n",
            "HOA Dues/Mo                float64\n",
            "HOA Amenities               object\n",
            "ES                          object\n",
            "MS                          object\n",
            "HS                          object\n",
            "Amenities_Listed             int64\n",
            "dtype: object\n",
            "\n",
            "Missing Values after modifications:\n",
            " Date                 0\n",
            "Price                0\n",
            "Address              0\n",
            "City                 0\n",
            "Zip                  0\n",
            "Beds                 0\n",
            "Full Baths           0\n",
            "Half Baths           0\n",
            "Unit SF              0\n",
            "Lot SF               0\n",
            "Year Built           0\n",
            "Parking              0\n",
            "Stories              0\n",
            "End Unit             0\n",
            "Basement             0\n",
            "Subdivision          0\n",
            "Miles                0\n",
            "HOA Dues/Mo          0\n",
            "HOA Amenities       63\n",
            "ES                   0\n",
            "MS                   0\n",
            "HS                   0\n",
            "Amenities_Listed     0\n",
            "dtype: int64\n"
          ]
        }
      ]
    },
    {
      "cell_type": "code",
      "source": [
        "data.describe()"
      ],
      "metadata": {
        "colab": {
          "base_uri": "https://localhost:8080/",
          "height": 441
        },
        "id": "zIVhV_I3FZD4",
        "outputId": "fca5c248-b4ef-4152-84bf-5cbad62f1ad2"
      },
      "execution_count": 6,
      "outputs": [
        {
          "output_type": "execute_result",
          "data": {
            "text/plain": [
              "                                Date          Price        Beds  Full Baths  \\\n",
              "count                            138     138.000000  138.000000  138.000000   \n",
              "mean   2023-05-04 10:57:23.478260992  475839.492754    3.260870    2.536232   \n",
              "min              2022-10-07 00:00:00  337000.000000    2.000000    2.000000   \n",
              "25%              2023-02-28 00:00:00  424992.500000    3.000000    2.000000   \n",
              "50%              2023-05-02 12:00:00  459900.000000    3.000000    3.000000   \n",
              "75%              2023-07-18 12:00:00  504975.000000    4.000000    3.000000   \n",
              "max              2023-10-10 00:00:00  899900.000000    5.000000    4.000000   \n",
              "std                              NaN   82476.847241    0.487873    0.514880   \n",
              "\n",
              "       Half Baths      Unit SF       Lot SF   Year Built     Stories  \\\n",
              "count  138.000000   138.000000   138.000000   138.000000  138.000000   \n",
              "mean     0.978261  2198.840580  2283.860870  2020.536232    2.318841   \n",
              "min      0.000000  1390.000000   435.600000  2005.000000    1.000000   \n",
              "25%      1.000000  1897.000000  1307.000000  2020.000000    2.000000   \n",
              "50%      1.000000  2088.000000  1957.000000  2021.000000    2.000000   \n",
              "75%      1.000000  2461.000000  2341.500000  2022.000000    3.000000   \n",
              "max      2.000000  3610.000000  8712.000000  2023.000000    4.000000   \n",
              "std      0.255377   370.432145  1571.414324     3.120826    0.526461   \n",
              "\n",
              "         End Unit    Basement       Miles  HOA Dues/Mo  Amenities_Listed  \n",
              "count  138.000000  138.000000  138.000000   138.000000        138.000000  \n",
              "mean     0.398551    0.094203    3.377536   207.151570          0.543478  \n",
              "min      0.000000    0.000000    0.000000    66.666667          0.000000  \n",
              "25%      0.000000    0.000000    1.300000   142.500000          0.000000  \n",
              "50%      0.000000    0.000000    2.300000   215.000000          1.000000  \n",
              "75%      1.000000    0.000000    4.000000   250.000000          1.000000  \n",
              "max      1.000000    1.000000    9.000000   316.250000          1.000000  \n",
              "std      0.491383    0.293175    2.899736    57.909717          0.499921  "
            ],
            "text/html": [
              "\n",
              "  <div id=\"df-e0c2f517-b73f-42b0-8276-e924919a2af5\" class=\"colab-df-container\">\n",
              "    <div>\n",
              "<style scoped>\n",
              "    .dataframe tbody tr th:only-of-type {\n",
              "        vertical-align: middle;\n",
              "    }\n",
              "\n",
              "    .dataframe tbody tr th {\n",
              "        vertical-align: top;\n",
              "    }\n",
              "\n",
              "    .dataframe thead th {\n",
              "        text-align: right;\n",
              "    }\n",
              "</style>\n",
              "<table border=\"1\" class=\"dataframe\">\n",
              "  <thead>\n",
              "    <tr style=\"text-align: right;\">\n",
              "      <th></th>\n",
              "      <th>Date</th>\n",
              "      <th>Price</th>\n",
              "      <th>Beds</th>\n",
              "      <th>Full Baths</th>\n",
              "      <th>Half Baths</th>\n",
              "      <th>Unit SF</th>\n",
              "      <th>Lot SF</th>\n",
              "      <th>Year Built</th>\n",
              "      <th>Stories</th>\n",
              "      <th>End Unit</th>\n",
              "      <th>Basement</th>\n",
              "      <th>Miles</th>\n",
              "      <th>HOA Dues/Mo</th>\n",
              "      <th>Amenities_Listed</th>\n",
              "    </tr>\n",
              "  </thead>\n",
              "  <tbody>\n",
              "    <tr>\n",
              "      <th>count</th>\n",
              "      <td>138</td>\n",
              "      <td>138.000000</td>\n",
              "      <td>138.000000</td>\n",
              "      <td>138.000000</td>\n",
              "      <td>138.000000</td>\n",
              "      <td>138.000000</td>\n",
              "      <td>138.000000</td>\n",
              "      <td>138.000000</td>\n",
              "      <td>138.000000</td>\n",
              "      <td>138.000000</td>\n",
              "      <td>138.000000</td>\n",
              "      <td>138.000000</td>\n",
              "      <td>138.000000</td>\n",
              "      <td>138.000000</td>\n",
              "    </tr>\n",
              "    <tr>\n",
              "      <th>mean</th>\n",
              "      <td>2023-05-04 10:57:23.478260992</td>\n",
              "      <td>475839.492754</td>\n",
              "      <td>3.260870</td>\n",
              "      <td>2.536232</td>\n",
              "      <td>0.978261</td>\n",
              "      <td>2198.840580</td>\n",
              "      <td>2283.860870</td>\n",
              "      <td>2020.536232</td>\n",
              "      <td>2.318841</td>\n",
              "      <td>0.398551</td>\n",
              "      <td>0.094203</td>\n",
              "      <td>3.377536</td>\n",
              "      <td>207.151570</td>\n",
              "      <td>0.543478</td>\n",
              "    </tr>\n",
              "    <tr>\n",
              "      <th>min</th>\n",
              "      <td>2022-10-07 00:00:00</td>\n",
              "      <td>337000.000000</td>\n",
              "      <td>2.000000</td>\n",
              "      <td>2.000000</td>\n",
              "      <td>0.000000</td>\n",
              "      <td>1390.000000</td>\n",
              "      <td>435.600000</td>\n",
              "      <td>2005.000000</td>\n",
              "      <td>1.000000</td>\n",
              "      <td>0.000000</td>\n",
              "      <td>0.000000</td>\n",
              "      <td>0.000000</td>\n",
              "      <td>66.666667</td>\n",
              "      <td>0.000000</td>\n",
              "    </tr>\n",
              "    <tr>\n",
              "      <th>25%</th>\n",
              "      <td>2023-02-28 00:00:00</td>\n",
              "      <td>424992.500000</td>\n",
              "      <td>3.000000</td>\n",
              "      <td>2.000000</td>\n",
              "      <td>1.000000</td>\n",
              "      <td>1897.000000</td>\n",
              "      <td>1307.000000</td>\n",
              "      <td>2020.000000</td>\n",
              "      <td>2.000000</td>\n",
              "      <td>0.000000</td>\n",
              "      <td>0.000000</td>\n",
              "      <td>1.300000</td>\n",
              "      <td>142.500000</td>\n",
              "      <td>0.000000</td>\n",
              "    </tr>\n",
              "    <tr>\n",
              "      <th>50%</th>\n",
              "      <td>2023-05-02 12:00:00</td>\n",
              "      <td>459900.000000</td>\n",
              "      <td>3.000000</td>\n",
              "      <td>3.000000</td>\n",
              "      <td>1.000000</td>\n",
              "      <td>2088.000000</td>\n",
              "      <td>1957.000000</td>\n",
              "      <td>2021.000000</td>\n",
              "      <td>2.000000</td>\n",
              "      <td>0.000000</td>\n",
              "      <td>0.000000</td>\n",
              "      <td>2.300000</td>\n",
              "      <td>215.000000</td>\n",
              "      <td>1.000000</td>\n",
              "    </tr>\n",
              "    <tr>\n",
              "      <th>75%</th>\n",
              "      <td>2023-07-18 12:00:00</td>\n",
              "      <td>504975.000000</td>\n",
              "      <td>4.000000</td>\n",
              "      <td>3.000000</td>\n",
              "      <td>1.000000</td>\n",
              "      <td>2461.000000</td>\n",
              "      <td>2341.500000</td>\n",
              "      <td>2022.000000</td>\n",
              "      <td>3.000000</td>\n",
              "      <td>1.000000</td>\n",
              "      <td>0.000000</td>\n",
              "      <td>4.000000</td>\n",
              "      <td>250.000000</td>\n",
              "      <td>1.000000</td>\n",
              "    </tr>\n",
              "    <tr>\n",
              "      <th>max</th>\n",
              "      <td>2023-10-10 00:00:00</td>\n",
              "      <td>899900.000000</td>\n",
              "      <td>5.000000</td>\n",
              "      <td>4.000000</td>\n",
              "      <td>2.000000</td>\n",
              "      <td>3610.000000</td>\n",
              "      <td>8712.000000</td>\n",
              "      <td>2023.000000</td>\n",
              "      <td>4.000000</td>\n",
              "      <td>1.000000</td>\n",
              "      <td>1.000000</td>\n",
              "      <td>9.000000</td>\n",
              "      <td>316.250000</td>\n",
              "      <td>1.000000</td>\n",
              "    </tr>\n",
              "    <tr>\n",
              "      <th>std</th>\n",
              "      <td>NaN</td>\n",
              "      <td>82476.847241</td>\n",
              "      <td>0.487873</td>\n",
              "      <td>0.514880</td>\n",
              "      <td>0.255377</td>\n",
              "      <td>370.432145</td>\n",
              "      <td>1571.414324</td>\n",
              "      <td>3.120826</td>\n",
              "      <td>0.526461</td>\n",
              "      <td>0.491383</td>\n",
              "      <td>0.293175</td>\n",
              "      <td>2.899736</td>\n",
              "      <td>57.909717</td>\n",
              "      <td>0.499921</td>\n",
              "    </tr>\n",
              "  </tbody>\n",
              "</table>\n",
              "</div>\n",
              "    <div class=\"colab-df-buttons\">\n",
              "\n",
              "  <div class=\"colab-df-container\">\n",
              "    <button class=\"colab-df-convert\" onclick=\"convertToInteractive('df-e0c2f517-b73f-42b0-8276-e924919a2af5')\"\n",
              "            title=\"Convert this dataframe to an interactive table.\"\n",
              "            style=\"display:none;\">\n",
              "\n",
              "  <svg xmlns=\"http://www.w3.org/2000/svg\" height=\"24px\" viewBox=\"0 -960 960 960\">\n",
              "    <path d=\"M120-120v-720h720v720H120Zm60-500h600v-160H180v160Zm220 220h160v-160H400v160Zm0 220h160v-160H400v160ZM180-400h160v-160H180v160Zm440 0h160v-160H620v160ZM180-180h160v-160H180v160Zm440 0h160v-160H620v160Z\"/>\n",
              "  </svg>\n",
              "    </button>\n",
              "\n",
              "  <style>\n",
              "    .colab-df-container {\n",
              "      display:flex;\n",
              "      gap: 12px;\n",
              "    }\n",
              "\n",
              "    .colab-df-convert {\n",
              "      background-color: #E8F0FE;\n",
              "      border: none;\n",
              "      border-radius: 50%;\n",
              "      cursor: pointer;\n",
              "      display: none;\n",
              "      fill: #1967D2;\n",
              "      height: 32px;\n",
              "      padding: 0 0 0 0;\n",
              "      width: 32px;\n",
              "    }\n",
              "\n",
              "    .colab-df-convert:hover {\n",
              "      background-color: #E2EBFA;\n",
              "      box-shadow: 0px 1px 2px rgba(60, 64, 67, 0.3), 0px 1px 3px 1px rgba(60, 64, 67, 0.15);\n",
              "      fill: #174EA6;\n",
              "    }\n",
              "\n",
              "    .colab-df-buttons div {\n",
              "      margin-bottom: 4px;\n",
              "    }\n",
              "\n",
              "    [theme=dark] .colab-df-convert {\n",
              "      background-color: #3B4455;\n",
              "      fill: #D2E3FC;\n",
              "    }\n",
              "\n",
              "    [theme=dark] .colab-df-convert:hover {\n",
              "      background-color: #434B5C;\n",
              "      box-shadow: 0px 1px 3px 1px rgba(0, 0, 0, 0.15);\n",
              "      filter: drop-shadow(0px 1px 2px rgba(0, 0, 0, 0.3));\n",
              "      fill: #FFFFFF;\n",
              "    }\n",
              "  </style>\n",
              "\n",
              "    <script>\n",
              "      const buttonEl =\n",
              "        document.querySelector('#df-e0c2f517-b73f-42b0-8276-e924919a2af5 button.colab-df-convert');\n",
              "      buttonEl.style.display =\n",
              "        google.colab.kernel.accessAllowed ? 'block' : 'none';\n",
              "\n",
              "      async function convertToInteractive(key) {\n",
              "        const element = document.querySelector('#df-e0c2f517-b73f-42b0-8276-e924919a2af5');\n",
              "        const dataTable =\n",
              "          await google.colab.kernel.invokeFunction('convertToInteractive',\n",
              "                                                    [key], {});\n",
              "        if (!dataTable) return;\n",
              "\n",
              "        const docLinkHtml = 'Like what you see? Visit the ' +\n",
              "          '<a target=\"_blank\" href=https://colab.research.google.com/notebooks/data_table.ipynb>data table notebook</a>'\n",
              "          + ' to learn more about interactive tables.';\n",
              "        element.innerHTML = '';\n",
              "        dataTable['output_type'] = 'display_data';\n",
              "        await google.colab.output.renderOutput(dataTable, element);\n",
              "        const docLink = document.createElement('div');\n",
              "        docLink.innerHTML = docLinkHtml;\n",
              "        element.appendChild(docLink);\n",
              "      }\n",
              "    </script>\n",
              "  </div>\n",
              "\n",
              "\n",
              "<div id=\"df-105b9d7e-0ca2-49ef-af39-32c055185bbe\">\n",
              "  <button class=\"colab-df-quickchart\" onclick=\"quickchart('df-105b9d7e-0ca2-49ef-af39-32c055185bbe')\"\n",
              "            title=\"Suggest charts\"\n",
              "            style=\"display:none;\">\n",
              "\n",
              "<svg xmlns=\"http://www.w3.org/2000/svg\" height=\"24px\"viewBox=\"0 0 24 24\"\n",
              "     width=\"24px\">\n",
              "    <g>\n",
              "        <path d=\"M19 3H5c-1.1 0-2 .9-2 2v14c0 1.1.9 2 2 2h14c1.1 0 2-.9 2-2V5c0-1.1-.9-2-2-2zM9 17H7v-7h2v7zm4 0h-2V7h2v10zm4 0h-2v-4h2v4z\"/>\n",
              "    </g>\n",
              "</svg>\n",
              "  </button>\n",
              "\n",
              "<style>\n",
              "  .colab-df-quickchart {\n",
              "      --bg-color: #E8F0FE;\n",
              "      --fill-color: #1967D2;\n",
              "      --hover-bg-color: #E2EBFA;\n",
              "      --hover-fill-color: #174EA6;\n",
              "      --disabled-fill-color: #AAA;\n",
              "      --disabled-bg-color: #DDD;\n",
              "  }\n",
              "\n",
              "  [theme=dark] .colab-df-quickchart {\n",
              "      --bg-color: #3B4455;\n",
              "      --fill-color: #D2E3FC;\n",
              "      --hover-bg-color: #434B5C;\n",
              "      --hover-fill-color: #FFFFFF;\n",
              "      --disabled-bg-color: #3B4455;\n",
              "      --disabled-fill-color: #666;\n",
              "  }\n",
              "\n",
              "  .colab-df-quickchart {\n",
              "    background-color: var(--bg-color);\n",
              "    border: none;\n",
              "    border-radius: 50%;\n",
              "    cursor: pointer;\n",
              "    display: none;\n",
              "    fill: var(--fill-color);\n",
              "    height: 32px;\n",
              "    padding: 0;\n",
              "    width: 32px;\n",
              "  }\n",
              "\n",
              "  .colab-df-quickchart:hover {\n",
              "    background-color: var(--hover-bg-color);\n",
              "    box-shadow: 0 1px 2px rgba(60, 64, 67, 0.3), 0 1px 3px 1px rgba(60, 64, 67, 0.15);\n",
              "    fill: var(--button-hover-fill-color);\n",
              "  }\n",
              "\n",
              "  .colab-df-quickchart-complete:disabled,\n",
              "  .colab-df-quickchart-complete:disabled:hover {\n",
              "    background-color: var(--disabled-bg-color);\n",
              "    fill: var(--disabled-fill-color);\n",
              "    box-shadow: none;\n",
              "  }\n",
              "\n",
              "  .colab-df-spinner {\n",
              "    border: 2px solid var(--fill-color);\n",
              "    border-color: transparent;\n",
              "    border-bottom-color: var(--fill-color);\n",
              "    animation:\n",
              "      spin 1s steps(1) infinite;\n",
              "  }\n",
              "\n",
              "  @keyframes spin {\n",
              "    0% {\n",
              "      border-color: transparent;\n",
              "      border-bottom-color: var(--fill-color);\n",
              "      border-left-color: var(--fill-color);\n",
              "    }\n",
              "    20% {\n",
              "      border-color: transparent;\n",
              "      border-left-color: var(--fill-color);\n",
              "      border-top-color: var(--fill-color);\n",
              "    }\n",
              "    30% {\n",
              "      border-color: transparent;\n",
              "      border-left-color: var(--fill-color);\n",
              "      border-top-color: var(--fill-color);\n",
              "      border-right-color: var(--fill-color);\n",
              "    }\n",
              "    40% {\n",
              "      border-color: transparent;\n",
              "      border-right-color: var(--fill-color);\n",
              "      border-top-color: var(--fill-color);\n",
              "    }\n",
              "    60% {\n",
              "      border-color: transparent;\n",
              "      border-right-color: var(--fill-color);\n",
              "    }\n",
              "    80% {\n",
              "      border-color: transparent;\n",
              "      border-right-color: var(--fill-color);\n",
              "      border-bottom-color: var(--fill-color);\n",
              "    }\n",
              "    90% {\n",
              "      border-color: transparent;\n",
              "      border-bottom-color: var(--fill-color);\n",
              "    }\n",
              "  }\n",
              "</style>\n",
              "\n",
              "  <script>\n",
              "    async function quickchart(key) {\n",
              "      const quickchartButtonEl =\n",
              "        document.querySelector('#' + key + ' button');\n",
              "      quickchartButtonEl.disabled = true;  // To prevent multiple clicks.\n",
              "      quickchartButtonEl.classList.add('colab-df-spinner');\n",
              "      try {\n",
              "        const charts = await google.colab.kernel.invokeFunction(\n",
              "            'suggestCharts', [key], {});\n",
              "      } catch (error) {\n",
              "        console.error('Error during call to suggestCharts:', error);\n",
              "      }\n",
              "      quickchartButtonEl.classList.remove('colab-df-spinner');\n",
              "      quickchartButtonEl.classList.add('colab-df-quickchart-complete');\n",
              "    }\n",
              "    (() => {\n",
              "      let quickchartButtonEl =\n",
              "        document.querySelector('#df-105b9d7e-0ca2-49ef-af39-32c055185bbe button');\n",
              "      quickchartButtonEl.style.display =\n",
              "        google.colab.kernel.accessAllowed ? 'block' : 'none';\n",
              "    })();\n",
              "  </script>\n",
              "</div>\n",
              "\n",
              "    </div>\n",
              "  </div>\n"
            ],
            "application/vnd.google.colaboratory.intrinsic+json": {
              "type": "dataframe",
              "summary": "{\n  \"name\": \"data\",\n  \"rows\": 8,\n  \"fields\": [\n    {\n      \"column\": \"Date\",\n      \"properties\": {\n        \"dtype\": \"date\",\n        \"min\": \"1970-01-01 00:00:00.000000138\",\n        \"max\": \"2023-10-10 00:00:00\",\n        \"num_unique_values\": 7,\n        \"samples\": [\n          \"138\",\n          \"2023-05-04 10:57:23.478260992\",\n          \"2023-07-18 12:00:00\"\n        ],\n        \"semantic_type\": \"\",\n        \"description\": \"\"\n      }\n    },\n    {\n      \"column\": \"Price\",\n      \"properties\": {\n        \"dtype\": \"number\",\n        \"std\": 276595.7071955255,\n        \"min\": 138.0,\n        \"max\": 899900.0,\n        \"num_unique_values\": 8,\n        \"samples\": [\n          475839.49275362317,\n          504975.0,\n          138.0\n        ],\n        \"semantic_type\": \"\",\n        \"description\": \"\"\n      }\n    },\n    {\n      \"column\": \"Beds\",\n      \"properties\": {\n        \"dtype\": \"number\",\n        \"std\": 47.760901369691304,\n        \"min\": 0.4878726025236919,\n        \"max\": 138.0,\n        \"num_unique_values\": 7,\n        \"samples\": [\n          138.0,\n          3.260869565217391,\n          5.0\n        ],\n        \"semantic_type\": \"\",\n        \"description\": \"\"\n      }\n    },\n    {\n      \"column\": \"Full Baths\",\n      \"properties\": {\n        \"dtype\": \"number\",\n        \"std\": 47.93983085337437,\n        \"min\": 0.5148796229501331,\n        \"max\": 138.0,\n        \"num_unique_values\": 6,\n        \"samples\": [\n          138.0,\n          2.536231884057971,\n          0.5148796229501331\n        ],\n        \"semantic_type\": \"\",\n        \"description\": \"\"\n      }\n    },\n    {\n      \"column\": \"Half Baths\",\n      \"properties\": {\n        \"dtype\": \"number\",\n        \"std\": 48.47916257314551,\n        \"min\": 0.0,\n        \"max\": 138.0,\n        \"num_unique_values\": 6,\n        \"samples\": [\n          138.0,\n          0.9782608695652174,\n          0.25537695922762454\n        ],\n        \"semantic_type\": \"\",\n        \"description\": \"\"\n      }\n    },\n    {\n      \"column\": \"Unit SF\",\n      \"properties\": {\n        \"dtype\": \"number\",\n        \"std\": 1129.5287743886445,\n        \"min\": 138.0,\n        \"max\": 3610.0,\n        \"num_unique_values\": 8,\n        \"samples\": [\n          2198.840579710145,\n          2461.0,\n          138.0\n        ],\n        \"semantic_type\": \"\",\n        \"description\": \"\"\n      }\n    },\n    {\n      \"column\": \"Lot SF\",\n      \"properties\": {\n        \"dtype\": \"number\",\n        \"std\": 2696.174437916633,\n        \"min\": 138.0,\n        \"max\": 8712.0,\n        \"num_unique_values\": 8,\n        \"samples\": [\n          2283.8608695652174,\n          2341.5,\n          138.0\n        ],\n        \"semantic_type\": \"\",\n        \"description\": \"\"\n      }\n    },\n    {\n      \"column\": \"Year Built\",\n      \"properties\": {\n        \"dtype\": \"number\",\n        \"std\": 902.5003982827468,\n        \"min\": 3.1208257850885874,\n        \"max\": 2023.0,\n        \"num_unique_values\": 8,\n        \"samples\": [\n          2020.536231884058,\n          2022.0,\n          138.0\n        ],\n        \"semantic_type\": \"\",\n        \"description\": \"\"\n      }\n    },\n    {\n      \"column\": \"Stories\",\n      \"properties\": {\n        \"dtype\": \"number\",\n        \"std\": 48.0527142438477,\n        \"min\": 0.5264605300762144,\n        \"max\": 138.0,\n        \"num_unique_values\": 7,\n        \"samples\": [\n          138.0,\n          2.318840579710145,\n          4.0\n        ],\n        \"semantic_type\": \"\",\n        \"description\": \"\"\n      }\n    },\n    {\n      \"column\": \"End Unit\",\n      \"properties\": {\n        \"dtype\": \"number\",\n        \"std\": 48.64617677665356,\n        \"min\": 0.0,\n        \"max\": 138.0,\n        \"num_unique_values\": 5,\n        \"samples\": [\n          0.39855072463768115,\n          0.4913834941103971,\n          0.0\n        ],\n        \"semantic_type\": \"\",\n        \"description\": \"\"\n      }\n    },\n    {\n      \"column\": \"Basement\",\n      \"properties\": {\n        \"dtype\": \"number\",\n        \"std\": 48.72149670450591,\n        \"min\": 0.0,\n        \"max\": 138.0,\n        \"num_unique_values\": 5,\n        \"samples\": [\n          0.09420289855072464,\n          0.29317494738220556,\n          0.0\n        ],\n        \"semantic_type\": \"\",\n        \"description\": \"\"\n      }\n    },\n    {\n      \"column\": \"Miles\",\n      \"properties\": {\n        \"dtype\": \"number\",\n        \"std\": 47.70835375226941,\n        \"min\": 0.0,\n        \"max\": 138.0,\n        \"num_unique_values\": 8,\n        \"samples\": [\n          3.3775362318840583,\n          4.0,\n          138.0\n        ],\n        \"semantic_type\": \"\",\n        \"description\": \"\"\n      }\n    },\n    {\n      \"column\": \"HOA Dues/Mo\",\n      \"properties\": {\n        \"dtype\": \"number\",\n        \"std\": 89.50376236590384,\n        \"min\": 57.90971683302193,\n        \"max\": 316.25,\n        \"num_unique_values\": 8,\n        \"samples\": [\n          207.1515700483092,\n          250.0,\n          138.0\n        ],\n        \"semantic_type\": \"\",\n        \"description\": \"\"\n      }\n    },\n    {\n      \"column\": \"Amenities_Listed\",\n      \"properties\": {\n        \"dtype\": \"number\",\n        \"std\": 48.587923826481415,\n        \"min\": 0.0,\n        \"max\": 138.0,\n        \"num_unique_values\": 5,\n        \"samples\": [\n          0.5434782608695652,\n          0.4999206538120847,\n          0.0\n        ],\n        \"semantic_type\": \"\",\n        \"description\": \"\"\n      }\n    }\n  ]\n}"
            }
          },
          "metadata": {},
          "execution_count": 6
        }
      ]
    },
    {
      "cell_type": "code",
      "source": [
        "import pandas as pd\n",
        "import numpy as np  # Add this line to import NumPy\n",
        "from statsmodels.stats.outliers_influence import variance_inflation_factor\n",
        "\n",
        "# Ensure the dataset 'data' is loaded as in previous steps\n",
        "\n",
        "# Before calculating VIF, let's make sure there are no NaN or infinite values in the numeric columns\n",
        "# We'll replace infinite values with NaN, and then drop any rows with NaN values\n",
        "numeric_cols = data.select_dtypes(include=['int64', 'float64']).drop(columns='Price')\n",
        "numeric_cols = numeric_cols.replace([np.inf, -np.inf], np.nan).dropna()\n",
        "\n",
        "# Now we can calculate the VIF\n",
        "vif_data = pd.DataFrame()\n",
        "vif_data['feature'] = numeric_cols.columns\n",
        "vif_data['VIF'] = [variance_inflation_factor(numeric_cols.values, i)\n",
        "                    for i in range(len(numeric_cols.columns))]\n",
        "\n",
        "print(vif_data)\n"
      ],
      "metadata": {
        "colab": {
          "base_uri": "https://localhost:8080/",
          "height": 0
        },
        "id": "WS3_zxGdFY_4",
        "outputId": "b9ce54c4-2aad-4e34-8431-ad0b21afb380"
      },
      "execution_count": 9,
      "outputs": [
        {
          "output_type": "stream",
          "name": "stdout",
          "text": [
            "             feature         VIF\n",
            "0               Beds   76.301262\n",
            "1         Full Baths   72.428600\n",
            "2         Half Baths   22.615150\n",
            "3            Unit SF   67.594737\n",
            "4             Lot SF    4.569347\n",
            "5         Year Built  332.775772\n",
            "6            Parking  354.706572\n",
            "7            Stories   34.418986\n",
            "8           End Unit    2.034856\n",
            "9           Basement    1.344585\n",
            "10             Miles    4.491354\n",
            "11       HOA Dues/Mo   25.491376\n",
            "12  Amenities_Listed    4.071015\n"
          ]
        }
      ]
    },
    {
      "cell_type": "code",
      "source": [
        "# Calculate the correlation matrix\n",
        "corr_matrix = data[['Beds', 'Full Baths', 'Half Baths', 'Unit SF', 'Lot SF', 'Year Built', 'Parking', 'Stories', 'HOA Dues/Mo']].corr()\n",
        "\n",
        "# Display the correlation matrix\n",
        "print(corr_matrix)\n"
      ],
      "metadata": {
        "colab": {
          "base_uri": "https://localhost:8080/",
          "height": 0
        },
        "id": "uv5LE1TsJ2hW",
        "outputId": "115d72e2-63ef-4834-aa4c-7a9693411ac5"
      },
      "execution_count": 10,
      "outputs": [
        {
          "output_type": "stream",
          "name": "stdout",
          "text": [
            "                 Beds  Full Baths  Half Baths   Unit SF    Lot SF  Year Built  \\\n",
            "Beds         1.000000    0.543260   -0.188493  0.396489 -0.034814    0.084834   \n",
            "Full Baths   0.543260    1.000000   -0.299286  0.564943  0.014517   -0.112117   \n",
            "Half Baths  -0.188493   -0.299286    1.000000 -0.046333 -0.090879    0.280332   \n",
            "Unit SF      0.396489    0.564943   -0.046333  1.000000  0.191005   -0.025642   \n",
            "Lot SF      -0.034814    0.014517   -0.090879  0.191005  1.000000    0.010549   \n",
            "Year Built   0.084834   -0.112117    0.280332 -0.025642  0.010549    1.000000   \n",
            "Parking      0.191197    0.008752    0.244902  0.242084  0.040937    0.447133   \n",
            "Stories      0.355854    0.576420   -0.056652  0.299505 -0.100145   -0.020411   \n",
            "HOA Dues/Mo  0.040961   -0.001950    0.127071  0.223505 -0.012286   -0.103703   \n",
            "\n",
            "              Parking   Stories  HOA Dues/Mo  \n",
            "Beds         0.191197  0.355854     0.040961  \n",
            "Full Baths   0.008752  0.576420    -0.001950  \n",
            "Half Baths   0.244902 -0.056652     0.127071  \n",
            "Unit SF      0.242084  0.299505     0.223505  \n",
            "Lot SF       0.040937 -0.100145    -0.012286  \n",
            "Year Built   0.447133 -0.020411    -0.103703  \n",
            "Parking      1.000000 -0.040913     0.156793  \n",
            "Stories     -0.040913  1.000000    -0.019733  \n",
            "HOA Dues/Mo  0.156793 -0.019733     1.000000  \n"
          ]
        }
      ]
    },
    {
      "cell_type": "code",
      "source": [
        "import numpy as np\n",
        "from statsmodels.stats.outliers_influence import variance_inflation_factor\n",
        "\n",
        "# Make sure 'data' is your current DataFrame after dropping 'Stories'\n",
        "\n",
        "# Replace infinite values with NaN and drop any rows with NaN values in the numeric columns\n",
        "numeric_cols = data.select_dtypes(include=['int64', 'float64']).drop(columns='Price')\n",
        "numeric_cols = numeric_cols.replace([np.inf, -np.inf], np.nan).dropna()\n",
        "\n",
        "# Check if there are still any NaN values which could cause problems\n",
        "if numeric_cols.isnull().sum().any():\n",
        "    print(\"NaNs are present in the data:\", numeric_cols.isnull().sum())\n",
        "else:\n",
        "    # Recalculate the VIF\n",
        "    vif_data = pd.DataFrame()\n",
        "    vif_data['feature'] = numeric_cols.columns\n",
        "    vif_data['VIF'] = [variance_inflation_factor(numeric_cols.values, i)\n",
        "                        for i in range(len(numeric_cols.columns))]\n",
        "\n",
        "    print(vif_data)\n"
      ],
      "metadata": {
        "colab": {
          "base_uri": "https://localhost:8080/",
          "height": 0
        },
        "id": "R4Zoc0ljJ2eB",
        "outputId": "10e041a1-d80b-4717-e37b-ecea66742c7a"
      },
      "execution_count": 12,
      "outputs": [
        {
          "output_type": "stream",
          "name": "stdout",
          "text": [
            "             feature         VIF\n",
            "0               Beds   75.851675\n",
            "1         Full Baths   56.006720\n",
            "2         Half Baths   21.941829\n",
            "3            Unit SF   67.400879\n",
            "4             Lot SF    4.565240\n",
            "5         Year Built  320.495765\n",
            "6            Parking  351.275586\n",
            "7           End Unit    2.014630\n",
            "8           Basement    1.338418\n",
            "9              Miles    4.301692\n",
            "10       HOA Dues/Mo   25.194829\n",
            "11  Amenities_Listed    4.070603\n"
          ]
        }
      ]
    },
    {
      "cell_type": "code",
      "source": [
        "# Combining 'Beds' and 'Full Baths' into a new variable 'Rooms'\n",
        "data['Rooms'] = data['Beds'] + data['Full Baths']\n",
        "\n",
        "# Optionally drop 'Year Built' to see if it reduces multicollinearity\n",
        "data = data.drop(columns=['Year Built'])\n",
        "\n",
        "# Prepare the data for VIF calculation\n",
        "numeric_cols = data[['Rooms', 'Half Baths', 'Unit SF', 'Lot SF', 'Parking', 'End Unit', 'Basement', 'Miles', 'HOA Dues/Mo', 'Amenities_Listed']]\n",
        "numeric_cols = numeric_cols.replace([np.inf, -np.inf], np.nan).dropna()\n",
        "\n",
        "# Recalculate VIF\n",
        "vif_data = pd.DataFrame()\n",
        "vif_data['feature'] = numeric_cols.columns\n",
        "vif_data['VIF'] = [variance_inflation_factor(numeric_cols.values, i)\n",
        "                    for i in range(len(numeric_cols.columns))]\n",
        "\n",
        "print(vif_data)\n"
      ],
      "metadata": {
        "colab": {
          "base_uri": "https://localhost:8080/",
          "height": 0
        },
        "id": "PbctzmgNJ2bp",
        "outputId": "79f1014c-032c-4ad5-abda-a1c56740dd00"
      },
      "execution_count": 13,
      "outputs": [
        {
          "output_type": "stream",
          "name": "stdout",
          "text": [
            "            feature         VIF\n",
            "0             Rooms   76.337622\n",
            "1        Half Baths   21.711687\n",
            "2           Unit SF   62.385633\n",
            "3            Lot SF    4.547683\n",
            "4           Parking  108.814158\n",
            "5          End Unit    2.002119\n",
            "6          Basement    1.288946\n",
            "7             Miles    4.211442\n",
            "8       HOA Dues/Mo   24.897781\n",
            "9  Amenities_Listed    3.946474\n"
          ]
        }
      ]
    },
    {
      "cell_type": "code",
      "source": [
        "from sklearn.linear_model import Ridge\n",
        "from sklearn.model_selection import train_test_split\n",
        "from sklearn.metrics import mean_squared_error\n",
        "from sklearn.preprocessing import StandardScaler\n",
        "\n",
        "# Prepare data\n",
        "X = data[['Rooms', 'Half Baths', 'Unit SF', 'Lot SF', 'End Unit', 'Basement', 'Miles', 'HOA Dues/Mo', 'Amenities_Listed']]  # assuming 'Parking' is dropped\n",
        "y = data['Price']\n",
        "\n",
        "# Standardizing the data\n",
        "scaler = StandardScaler()\n",
        "X_scaled = scaler.fit_transform(X)\n",
        "\n",
        "# Split data into training and testing sets\n",
        "X_train, X_test, y_train, y_test = train_test_split(X_scaled, y, test_size=0.2, random_state=42)\n",
        "\n",
        "# Initialize and fit Ridge Regression model\n",
        "ridge = Ridge(alpha=1.0)  # You can adjust the alpha parameter to see different results\n",
        "ridge.fit(X_train, y_train)\n",
        "\n",
        "# Predict and evaluate the model\n",
        "y_pred = ridge.predict(X_test)\n",
        "mse = mean_squared_error(y_test, y_pred)\n",
        "print(\"MSE: \", mse)\n",
        "print(\"Model coefficients:\", ridge.coef_)\n"
      ],
      "metadata": {
        "colab": {
          "base_uri": "https://localhost:8080/",
          "height": 0
        },
        "id": "ptm8cZ8PJ2ZY",
        "outputId": "d4cebc27-e30b-46d8-f739-be41bac1d396"
      },
      "execution_count": 14,
      "outputs": [
        {
          "output_type": "stream",
          "name": "stdout",
          "text": [
            "MSE:  1846374585.5196571\n",
            "Model coefficients: [ -7491.92046148 -15184.24409542  47879.92897036   6612.50813283\n",
            "   -116.47267272   2845.26412254 -12775.14971783  16200.37991495\n",
            "   5130.31000484]\n"
          ]
        }
      ]
    },
    {
      "cell_type": "code",
      "source": [
        "from sklearn.linear_model import Lasso\n",
        "\n",
        "# Initialize and fit Lasso Regression model\n",
        "lasso = Lasso(alpha=0.1)  # Alpha is the regularization strength; can be adjusted\n",
        "lasso.fit(X_train, y_train)\n",
        "\n",
        "# Predict and evaluate the model\n",
        "y_pred_lasso = lasso.predict(X_test)\n",
        "mse_lasso = mean_squared_error(y_test, y_pred_lasso)\n",
        "print(\"Lasso MSE: \", mse_lasso)\n",
        "print(\"Lasso Model coefficients:\", lasso.coef_)\n"
      ],
      "metadata": {
        "colab": {
          "base_uri": "https://localhost:8080/",
          "height": 0
        },
        "id": "gz0C2hKLJ2XX",
        "outputId": "dd6b432d-ce73-4c1f-e14e-e92b16d94071"
      },
      "execution_count": 15,
      "outputs": [
        {
          "output_type": "stream",
          "name": "stdout",
          "text": [
            "Lasso MSE:  1853013118.4451218\n",
            "Lasso Model coefficients: [ -8099.37323548 -15498.27094039  48649.54128881   6412.56394405\n",
            "   -118.15958527   2878.64332518 -12662.85680321  16281.3072099\n",
            "   5138.81869565]\n"
          ]
        }
      ]
    },
    {
      "cell_type": "code",
      "source": [
        "from sklearn.model_selection import cross_val_score\n",
        "\n",
        "# Cross-validation for Ridge\n",
        "ridge_cv_scores = cross_val_score(Ridge(alpha=1.0), X_scaled, y, cv=5, scoring='neg_mean_squared_error')\n",
        "print(\"Ridge CV MSE:\", -np.mean(ridge_cv_scores))\n",
        "\n",
        "# Cross-validation for Lasso\n",
        "lasso_cv_scores = cross_val_score(Lasso(alpha=0.1), X_scaled, y, cv=5, scoring='neg_mean_squared_error')\n",
        "print(\"Lasso CV MSE:\", -np.mean(lasso_cv_scores))\n"
      ],
      "metadata": {
        "colab": {
          "base_uri": "https://localhost:8080/",
          "height": 0
        },
        "id": "rt6bj9VGJ2Uq",
        "outputId": "d6d17548-2fa0-4006-e3c4-1112a504caf7"
      },
      "execution_count": 16,
      "outputs": [
        {
          "output_type": "stream",
          "name": "stdout",
          "text": [
            "Ridge CV MSE: 3753067034.6816835\n",
            "Lasso CV MSE: 3763962385.0579653\n"
          ]
        }
      ]
    },
    {
      "cell_type": "code",
      "source": [
        "# Check for NaNs in the original data\n",
        "print(X_train.isnull().sum())\n",
        "\n",
        "# Optionally, fill NaNs with the median or mean of each column or drop rows with NaNs\n",
        "X_train_filled = X_train.fillna(X_train.median())  # Filling NaNs with the median of each column\n"
      ],
      "metadata": {
        "colab": {
          "base_uri": "https://localhost:8080/",
          "height": 0
        },
        "id": "TPI4gXHRMbfR",
        "outputId": "703c4129-4b17-4a38-e0fd-f96e57660e6c"
      },
      "execution_count": 22,
      "outputs": [
        {
          "output_type": "stream",
          "name": "stdout",
          "text": [
            "Rooms               0\n",
            "Half Baths          0\n",
            "Unit SF             0\n",
            "Lot SF              0\n",
            "Parking             2\n",
            "End Unit            0\n",
            "Basement            0\n",
            "Miles               0\n",
            "HOA Dues/Mo         0\n",
            "Amenities_Listed    0\n",
            "dtype: int64\n"
          ]
        }
      ]
    },
    {
      "cell_type": "code",
      "source": [
        "# Impute missing values in 'Parking' with the mode\n",
        "mode_parking = X_train['Parking'].mode()[0]\n",
        "X_train['Parking'].fillna(mode_parking, inplace=True)\n",
        "\n",
        "# Verify that there are no more missing values\n",
        "print(X_train['Parking'].isnull().sum())\n"
      ],
      "metadata": {
        "colab": {
          "base_uri": "https://localhost:8080/",
          "height": 0
        },
        "id": "fApDaQB7MbbT",
        "outputId": "e67a944e-356a-4caa-fb6b-5155084f1ddb"
      },
      "execution_count": 23,
      "outputs": [
        {
          "output_type": "stream",
          "name": "stdout",
          "text": [
            "0\n"
          ]
        }
      ]
    },
    {
      "cell_type": "code",
      "source": [
        "# Drop rows where 'Parking' is NaN\n",
        "X_train.dropna(subset=['Parking'], inplace=True)\n",
        "\n",
        "# Verify that rows have been dropped\n",
        "print(X_train['Parking'].isnull().sum())\n"
      ],
      "metadata": {
        "colab": {
          "base_uri": "https://localhost:8080/",
          "height": 0
        },
        "id": "jEuzYja6MbXr",
        "outputId": "34a6d547-42c7-4d2c-fc3a-2a0a3f99aa69"
      },
      "execution_count": 24,
      "outputs": [
        {
          "output_type": "stream",
          "name": "stdout",
          "text": [
            "0\n"
          ]
        }
      ]
    },
    {
      "cell_type": "code",
      "source": [
        "# Fit the scaler on the cleaned data\n",
        "scaler.fit(X_train)\n",
        "\n",
        "# Scale the training data\n",
        "X_train_scaled = scaler.transform(X_train)\n",
        "\n",
        "# Train the RandomForestRegressor\n",
        "rf_model.fit(X_train_scaled, y_train)\n",
        "\n",
        "# Predict using the model (ensure any new data for prediction also has 'Parking' filled or handled similarly)\n"
      ],
      "metadata": {
        "colab": {
          "base_uri": "https://localhost:8080/",
          "height": 74
        },
        "id": "nzoDdZJYPrFi",
        "outputId": "6b63bf58-092b-483e-fcd2-fe4c43750931"
      },
      "execution_count": 25,
      "outputs": [
        {
          "output_type": "execute_result",
          "data": {
            "text/plain": [
              "RandomForestRegressor(random_state=42)"
            ],
            "text/html": [
              "<style>#sk-container-id-1 {color: black;background-color: white;}#sk-container-id-1 pre{padding: 0;}#sk-container-id-1 div.sk-toggleable {background-color: white;}#sk-container-id-1 label.sk-toggleable__label {cursor: pointer;display: block;width: 100%;margin-bottom: 0;padding: 0.3em;box-sizing: border-box;text-align: center;}#sk-container-id-1 label.sk-toggleable__label-arrow:before {content: \"▸\";float: left;margin-right: 0.25em;color: #696969;}#sk-container-id-1 label.sk-toggleable__label-arrow:hover:before {color: black;}#sk-container-id-1 div.sk-estimator:hover label.sk-toggleable__label-arrow:before {color: black;}#sk-container-id-1 div.sk-toggleable__content {max-height: 0;max-width: 0;overflow: hidden;text-align: left;background-color: #f0f8ff;}#sk-container-id-1 div.sk-toggleable__content pre {margin: 0.2em;color: black;border-radius: 0.25em;background-color: #f0f8ff;}#sk-container-id-1 input.sk-toggleable__control:checked~div.sk-toggleable__content {max-height: 200px;max-width: 100%;overflow: auto;}#sk-container-id-1 input.sk-toggleable__control:checked~label.sk-toggleable__label-arrow:before {content: \"▾\";}#sk-container-id-1 div.sk-estimator input.sk-toggleable__control:checked~label.sk-toggleable__label {background-color: #d4ebff;}#sk-container-id-1 div.sk-label input.sk-toggleable__control:checked~label.sk-toggleable__label {background-color: #d4ebff;}#sk-container-id-1 input.sk-hidden--visually {border: 0;clip: rect(1px 1px 1px 1px);clip: rect(1px, 1px, 1px, 1px);height: 1px;margin: -1px;overflow: hidden;padding: 0;position: absolute;width: 1px;}#sk-container-id-1 div.sk-estimator {font-family: monospace;background-color: #f0f8ff;border: 1px dotted black;border-radius: 0.25em;box-sizing: border-box;margin-bottom: 0.5em;}#sk-container-id-1 div.sk-estimator:hover {background-color: #d4ebff;}#sk-container-id-1 div.sk-parallel-item::after {content: \"\";width: 100%;border-bottom: 1px solid gray;flex-grow: 1;}#sk-container-id-1 div.sk-label:hover label.sk-toggleable__label {background-color: #d4ebff;}#sk-container-id-1 div.sk-serial::before {content: \"\";position: absolute;border-left: 1px solid gray;box-sizing: border-box;top: 0;bottom: 0;left: 50%;z-index: 0;}#sk-container-id-1 div.sk-serial {display: flex;flex-direction: column;align-items: center;background-color: white;padding-right: 0.2em;padding-left: 0.2em;position: relative;}#sk-container-id-1 div.sk-item {position: relative;z-index: 1;}#sk-container-id-1 div.sk-parallel {display: flex;align-items: stretch;justify-content: center;background-color: white;position: relative;}#sk-container-id-1 div.sk-item::before, #sk-container-id-1 div.sk-parallel-item::before {content: \"\";position: absolute;border-left: 1px solid gray;box-sizing: border-box;top: 0;bottom: 0;left: 50%;z-index: -1;}#sk-container-id-1 div.sk-parallel-item {display: flex;flex-direction: column;z-index: 1;position: relative;background-color: white;}#sk-container-id-1 div.sk-parallel-item:first-child::after {align-self: flex-end;width: 50%;}#sk-container-id-1 div.sk-parallel-item:last-child::after {align-self: flex-start;width: 50%;}#sk-container-id-1 div.sk-parallel-item:only-child::after {width: 0;}#sk-container-id-1 div.sk-dashed-wrapped {border: 1px dashed gray;margin: 0 0.4em 0.5em 0.4em;box-sizing: border-box;padding-bottom: 0.4em;background-color: white;}#sk-container-id-1 div.sk-label label {font-family: monospace;font-weight: bold;display: inline-block;line-height: 1.2em;}#sk-container-id-1 div.sk-label-container {text-align: center;}#sk-container-id-1 div.sk-container {/* jupyter's `normalize.less` sets `[hidden] { display: none; }` but bootstrap.min.css set `[hidden] { display: none !important; }` so we also need the `!important` here to be able to override the default hidden behavior on the sphinx rendered scikit-learn.org. See: https://github.com/scikit-learn/scikit-learn/issues/21755 */display: inline-block !important;position: relative;}#sk-container-id-1 div.sk-text-repr-fallback {display: none;}</style><div id=\"sk-container-id-1\" class=\"sk-top-container\"><div class=\"sk-text-repr-fallback\"><pre>RandomForestRegressor(random_state=42)</pre><b>In a Jupyter environment, please rerun this cell to show the HTML representation or trust the notebook. <br />On GitHub, the HTML representation is unable to render, please try loading this page with nbviewer.org.</b></div><div class=\"sk-container\" hidden><div class=\"sk-item\"><div class=\"sk-estimator sk-toggleable\"><input class=\"sk-toggleable__control sk-hidden--visually\" id=\"sk-estimator-id-1\" type=\"checkbox\" checked><label for=\"sk-estimator-id-1\" class=\"sk-toggleable__label sk-toggleable__label-arrow\">RandomForestRegressor</label><div class=\"sk-toggleable__content\"><pre>RandomForestRegressor(random_state=42)</pre></div></div></div></div></div>"
            ]
          },
          "metadata": {},
          "execution_count": 25
        }
      ]
    },
    {
      "cell_type": "code",
      "source": [
        "# Assuming scaler and RandomForest model have been defined as earlier\n",
        "\n",
        "# Fit the scaler on the entire training data and transform it\n",
        "scaler.fit(X_train)\n",
        "X_train_scaled = scaler.transform(X_train)\n",
        "\n",
        "# If you have a test set or validation set, don't forget to transform it as well\n",
        "# X_test_scaled = scaler.transform(X_test)  # Uncomment and use if applicable\n"
      ],
      "metadata": {
        "id": "N3mqCxGaPrC4"
      },
      "execution_count": 26,
      "outputs": []
    },
    {
      "cell_type": "code",
      "source": [
        "# Train the RandomForestRegressor\n",
        "rf_model.fit(X_train_scaled, y_train)\n",
        "\n",
        "# Optionally, evaluate the model on a test set\n",
        "# y_pred = rf_model.predict(X_test_scaled)\n",
        "# print(\"Test set predictions:\", y_pred)\n"
      ],
      "metadata": {
        "colab": {
          "base_uri": "https://localhost:8080/",
          "height": 74
        },
        "id": "NbNu5Y2uPq_k",
        "outputId": "df5dead3-2f37-471d-aff7-a4610c20e7ee"
      },
      "execution_count": 27,
      "outputs": [
        {
          "output_type": "execute_result",
          "data": {
            "text/plain": [
              "RandomForestRegressor(random_state=42)"
            ],
            "text/html": [
              "<style>#sk-container-id-2 {color: black;background-color: white;}#sk-container-id-2 pre{padding: 0;}#sk-container-id-2 div.sk-toggleable {background-color: white;}#sk-container-id-2 label.sk-toggleable__label {cursor: pointer;display: block;width: 100%;margin-bottom: 0;padding: 0.3em;box-sizing: border-box;text-align: center;}#sk-container-id-2 label.sk-toggleable__label-arrow:before {content: \"▸\";float: left;margin-right: 0.25em;color: #696969;}#sk-container-id-2 label.sk-toggleable__label-arrow:hover:before {color: black;}#sk-container-id-2 div.sk-estimator:hover label.sk-toggleable__label-arrow:before {color: black;}#sk-container-id-2 div.sk-toggleable__content {max-height: 0;max-width: 0;overflow: hidden;text-align: left;background-color: #f0f8ff;}#sk-container-id-2 div.sk-toggleable__content pre {margin: 0.2em;color: black;border-radius: 0.25em;background-color: #f0f8ff;}#sk-container-id-2 input.sk-toggleable__control:checked~div.sk-toggleable__content {max-height: 200px;max-width: 100%;overflow: auto;}#sk-container-id-2 input.sk-toggleable__control:checked~label.sk-toggleable__label-arrow:before {content: \"▾\";}#sk-container-id-2 div.sk-estimator input.sk-toggleable__control:checked~label.sk-toggleable__label {background-color: #d4ebff;}#sk-container-id-2 div.sk-label input.sk-toggleable__control:checked~label.sk-toggleable__label {background-color: #d4ebff;}#sk-container-id-2 input.sk-hidden--visually {border: 0;clip: rect(1px 1px 1px 1px);clip: rect(1px, 1px, 1px, 1px);height: 1px;margin: -1px;overflow: hidden;padding: 0;position: absolute;width: 1px;}#sk-container-id-2 div.sk-estimator {font-family: monospace;background-color: #f0f8ff;border: 1px dotted black;border-radius: 0.25em;box-sizing: border-box;margin-bottom: 0.5em;}#sk-container-id-2 div.sk-estimator:hover {background-color: #d4ebff;}#sk-container-id-2 div.sk-parallel-item::after {content: \"\";width: 100%;border-bottom: 1px solid gray;flex-grow: 1;}#sk-container-id-2 div.sk-label:hover label.sk-toggleable__label {background-color: #d4ebff;}#sk-container-id-2 div.sk-serial::before {content: \"\";position: absolute;border-left: 1px solid gray;box-sizing: border-box;top: 0;bottom: 0;left: 50%;z-index: 0;}#sk-container-id-2 div.sk-serial {display: flex;flex-direction: column;align-items: center;background-color: white;padding-right: 0.2em;padding-left: 0.2em;position: relative;}#sk-container-id-2 div.sk-item {position: relative;z-index: 1;}#sk-container-id-2 div.sk-parallel {display: flex;align-items: stretch;justify-content: center;background-color: white;position: relative;}#sk-container-id-2 div.sk-item::before, #sk-container-id-2 div.sk-parallel-item::before {content: \"\";position: absolute;border-left: 1px solid gray;box-sizing: border-box;top: 0;bottom: 0;left: 50%;z-index: -1;}#sk-container-id-2 div.sk-parallel-item {display: flex;flex-direction: column;z-index: 1;position: relative;background-color: white;}#sk-container-id-2 div.sk-parallel-item:first-child::after {align-self: flex-end;width: 50%;}#sk-container-id-2 div.sk-parallel-item:last-child::after {align-self: flex-start;width: 50%;}#sk-container-id-2 div.sk-parallel-item:only-child::after {width: 0;}#sk-container-id-2 div.sk-dashed-wrapped {border: 1px dashed gray;margin: 0 0.4em 0.5em 0.4em;box-sizing: border-box;padding-bottom: 0.4em;background-color: white;}#sk-container-id-2 div.sk-label label {font-family: monospace;font-weight: bold;display: inline-block;line-height: 1.2em;}#sk-container-id-2 div.sk-label-container {text-align: center;}#sk-container-id-2 div.sk-container {/* jupyter's `normalize.less` sets `[hidden] { display: none; }` but bootstrap.min.css set `[hidden] { display: none !important; }` so we also need the `!important` here to be able to override the default hidden behavior on the sphinx rendered scikit-learn.org. See: https://github.com/scikit-learn/scikit-learn/issues/21755 */display: inline-block !important;position: relative;}#sk-container-id-2 div.sk-text-repr-fallback {display: none;}</style><div id=\"sk-container-id-2\" class=\"sk-top-container\"><div class=\"sk-text-repr-fallback\"><pre>RandomForestRegressor(random_state=42)</pre><b>In a Jupyter environment, please rerun this cell to show the HTML representation or trust the notebook. <br />On GitHub, the HTML representation is unable to render, please try loading this page with nbviewer.org.</b></div><div class=\"sk-container\" hidden><div class=\"sk-item\"><div class=\"sk-estimator sk-toggleable\"><input class=\"sk-toggleable__control sk-hidden--visually\" id=\"sk-estimator-id-2\" type=\"checkbox\" checked><label for=\"sk-estimator-id-2\" class=\"sk-toggleable__label sk-toggleable__label-arrow\">RandomForestRegressor</label><div class=\"sk-toggleable__content\"><pre>RandomForestRegressor(random_state=42)</pre></div></div></div></div></div>"
            ]
          },
          "metadata": {},
          "execution_count": 27
        }
      ]
    },
    {
      "cell_type": "code",
      "source": [
        "# Define the features of the base unit \"The Juliet\"\n",
        "base_features = np.array([[5, 1, 1800, 1200, 2, 0, 0, 0.5, 240, 1]])  # Adjust as necessary\n",
        "\n",
        "# Scale the base features using the fitted scaler\n",
        "base_features_scaled = scaler.transform(base_features)\n",
        "\n",
        "# Predict the price using the RandomForestRegressor\n",
        "predicted_base_price = rf_model.predict(base_features_scaled)\n",
        "print(\"Predicted price for the base unit 'The Juliet':\", predicted_base_price[0])\n"
      ],
      "metadata": {
        "colab": {
          "base_uri": "https://localhost:8080/",
          "height": 0
        },
        "id": "v8bZt2xRP5Yv",
        "outputId": "0fff76ac-5af5-49af-d43c-1006b193ebc9"
      },
      "execution_count": 28,
      "outputs": [
        {
          "output_type": "stream",
          "name": "stdout",
          "text": [
            "Predicted price for the base unit 'The Juliet': 595280.15\n"
          ]
        },
        {
          "output_type": "stream",
          "name": "stderr",
          "text": [
            "/usr/local/lib/python3.10/dist-packages/sklearn/base.py:439: UserWarning: X does not have valid feature names, but StandardScaler was fitted with feature names\n",
            "  warnings.warn(\n"
          ]
        }
      ]
    },
    {
      "cell_type": "code",
      "source": [
        "# Convert the numpy array to a DataFrame with appropriate column names before scaling\n",
        "base_features_df = pd.DataFrame(base_features, columns=X_train.columns)\n",
        "\n",
        "# Scale the DataFrame\n",
        "base_features_scaled = scaler.transform(base_features_df)\n",
        "\n",
        "# Predict the price\n",
        "predicted_base_price = rf_model.predict(base_features_scaled)\n",
        "print(\"Predicted price for the base unit 'The Juliet':\", predicted_base_price[0])\n"
      ],
      "metadata": {
        "colab": {
          "base_uri": "https://localhost:8080/",
          "height": 0
        },
        "id": "KAc5qkFmP5Ul",
        "outputId": "ce94ce43-824d-4f02-fbfa-2f8887e5ed52"
      },
      "execution_count": 29,
      "outputs": [
        {
          "output_type": "stream",
          "name": "stdout",
          "text": [
            "Predicted price for the base unit 'The Juliet': 595280.15\n"
          ]
        }
      ]
    },
    {
      "cell_type": "code",
      "source": [
        "# Adjusting the base features for an additional full bathroom\n",
        "base_features_plus_bath = base_features_df.copy()\n",
        "base_features_plus_bath['Half Baths'] += 1  # Assuming the half bath can represent an additional full bathroom for demonstration\n",
        "base_features_scaled_plus_bath = scaler.transform(base_features_plus_bath)\n",
        "predicted_price_plus_bath = rf_model.predict(base_features_scaled_plus_bath)\n",
        "print(\"Price with an additional full bath:\", predicted_price_plus_bath[0])\n",
        "\n",
        "# Analyzing the effect of distance from downtown\n",
        "distances = np.linspace(0.1, 10, 100)\n",
        "prices_distance_effect = []\n",
        "for d in distances:\n",
        "    temp_features = base_features_df.copy()\n",
        "    temp_features['Miles'] = d\n",
        "    temp_features_scaled = scaler.transform(temp_features)\n",
        "    prices_distance_effect.append(rf_model.predict(temp_features_scaled)[0])\n",
        "\n",
        "# Plotting the effect of distance on price\n",
        "import matplotlib.pyplot as plt\n",
        "plt.figure(figsize=(10, 6))\n",
        "plt.plot(distances, prices_distance_effect, label='Price vs. Distance from Downtown')\n",
        "plt.xlabel('Distance from Downtown (miles)')\n",
        "plt.ylabel('Predicted Price ($)')\n",
        "plt.title('Effect of Proximity to Downtown on Property Prices')\n",
        "plt.legend()\n",
        "plt.show()\n"
      ],
      "metadata": {
        "colab": {
          "base_uri": "https://localhost:8080/",
          "height": 582
        },
        "id": "xgp-sOOpP5SQ",
        "outputId": "3615ad43-9306-4e66-f33f-b21abaf30264"
      },
      "execution_count": 30,
      "outputs": [
        {
          "output_type": "stream",
          "name": "stdout",
          "text": [
            "Price with an additional full bath: 595280.15\n"
          ]
        },
        {
          "output_type": "display_data",
          "data": {
            "text/plain": [
              "<Figure size 1000x600 with 1 Axes>"
            ],
            "image/png": "[encoded data removed]"
          },
          "metadata": {}
        }
      ]
    },
    {
      "cell_type": "code",
      "source": [
        "# Get feature importances\n",
        "importances = rf_model.feature_importances_\n",
        "features = X_train.columns\n",
        "plt.barh(features, importances)\n",
        "plt.xlabel(\"Feature Importance\")\n",
        "plt.ylabel(\"Feature\")\n",
        "plt.title(\"Feature Importance in Predicting Property Prices\")\n",
        "plt.show()\n"
      ],
      "metadata": {
        "colab": {
          "base_uri": "https://localhost:8080/",
          "height": 472
        },
        "id": "Sq1OoVo0P5P4",
        "outputId": "cf183dec-24a2-493a-9206-58444006aed6"
      },
      "execution_count": 31,
      "outputs": [
        {
          "output_type": "display_data",
          "data": {
            "text/plain": [
              "<Figure size 640x480 with 1 Axes>"
            ],
            "image/png": "[encoded data removed]"
          },
          "metadata": {}
        }
      ]
    },
    {
      "cell_type": "code",
      "source": [
        "# Assuming 'data' is the final DataFrame you want to export to Excel\n",
        "with pd.ExcelWriter('final_analysis.xlsx') as writer:\n",
        "    data.to_excel(writer, sheet_name='Processed Data')\n",
        "\n"
      ],
      "metadata": {
        "id": "wGHOg36cUppD"
      },
      "execution_count": 33,
      "outputs": []
    },
    {
      "cell_type": "code",
      "source": [],
      "metadata": {
        "id": "_OT73ZufqQ3c"
      },
      "execution_count": null,
      "outputs": []
    }
  ]
}